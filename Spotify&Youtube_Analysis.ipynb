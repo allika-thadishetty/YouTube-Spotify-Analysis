{
  "nbformat": 4,
  "nbformat_minor": 0,
  "metadata": {
    "colab": {
      "provenance": []
    },
    "kernelspec": {
      "name": "python3",
      "display_name": "Python 3"
    },
    "language_info": {
      "name": "python"
    },
    "widgets": {
      "application/vnd.jupyter.widget-state+json": {
        "85632156480b437da1190bef7f685483": {
          "model_module": "@jupyter-widgets/controls",
          "model_name": "VBoxModel",
          "model_module_version": "1.5.0",
          "state": {
            "_dom_classes": [
              "widget-interact"
            ],
            "_model_module": "@jupyter-widgets/controls",
            "_model_module_version": "1.5.0",
            "_model_name": "VBoxModel",
            "_view_count": null,
            "_view_module": "@jupyter-widgets/controls",
            "_view_module_version": "1.5.0",
            "_view_name": "VBoxView",
            "box_style": "",
            "children": [
              "IPY_MODEL_da7509d9c4eb4fcf99f8be0997d6d4b4",
              "IPY_MODEL_36a8970e44e5474bb6f3850f794639e8"
            ],
            "layout": "IPY_MODEL_98c23df0db024d6684a715e1a92131a6"
          }
        },
        "da7509d9c4eb4fcf99f8be0997d6d4b4": {
          "model_module": "@jupyter-widgets/controls",
          "model_name": "DropdownModel",
          "model_module_version": "1.5.0",
          "state": {
            "_dom_classes": [],
            "_model_module": "@jupyter-widgets/controls",
            "_model_module_version": "1.5.0",
            "_model_name": "DropdownModel",
            "_options_labels": [
              "Danceability",
              "Energy",
              "Loudness",
              "Speechiness",
              "Acousticness",
              "Instrumentalness",
              "Liveness",
              "Valence",
              "Tempo",
              "Duration_min",
              "Views",
              "Likes",
              "Comments",
              "Stream",
              "EnergyLiveness"
            ],
            "_view_count": null,
            "_view_module": "@jupyter-widgets/controls",
            "_view_module_version": "1.5.0",
            "_view_name": "DropdownView",
            "description": "column",
            "description_tooltip": null,
            "disabled": false,
            "index": 0,
            "layout": "IPY_MODEL_cfa3cef9e1b94cdf9b28206c29765902",
            "style": "IPY_MODEL_a932a85e7008402fa11ad36c86c62e5b"
          }
        },
        "36a8970e44e5474bb6f3850f794639e8": {
          "model_module": "@jupyter-widgets/output",
          "model_name": "OutputModel",
          "model_module_version": "1.0.0",
          "state": {
            "_dom_classes": [],
            "_model_module": "@jupyter-widgets/output",
            "_model_module_version": "1.0.0",
            "_model_name": "OutputModel",
            "_view_count": null,
            "_view_module": "@jupyter-widgets/output",
            "_view_module_version": "1.0.0",
            "_view_name": "OutputView",
            "layout": "IPY_MODEL_265a2f41f53449dbb40e608877cacb31",
            "msg_id": "",
            "outputs": [
              {
                "output_type": "stream",
                "name": "stdout",
                "text": [
                  "Max Value : 0.975\n",
                  "Minimum Value : 0.0\n",
                  "Average Value : 0.6205636074534161\n",
                  "Variance : 0.027371219610718492\n",
                  "Standard Deviation : 0.16544249638686698\n",
                  "25 Percentile : 0.519\n",
                  "75 Percentile : 0.862\n"
                ]
              }
            ]
          }
        },
        "98c23df0db024d6684a715e1a92131a6": {
          "model_module": "@jupyter-widgets/base",
          "model_name": "LayoutModel",
          "model_module_version": "1.2.0",
          "state": {
            "_model_module": "@jupyter-widgets/base",
            "_model_module_version": "1.2.0",
            "_model_name": "LayoutModel",
            "_view_count": null,
            "_view_module": "@jupyter-widgets/base",
            "_view_module_version": "1.2.0",
            "_view_name": "LayoutView",
            "align_content": null,
            "align_items": null,
            "align_self": null,
            "border": null,
            "bottom": null,
            "display": null,
            "flex": null,
            "flex_flow": null,
            "grid_area": null,
            "grid_auto_columns": null,
            "grid_auto_flow": null,
            "grid_auto_rows": null,
            "grid_column": null,
            "grid_gap": null,
            "grid_row": null,
            "grid_template_areas": null,
            "grid_template_columns": null,
            "grid_template_rows": null,
            "height": null,
            "justify_content": null,
            "justify_items": null,
            "left": null,
            "margin": null,
            "max_height": null,
            "max_width": null,
            "min_height": null,
            "min_width": null,
            "object_fit": null,
            "object_position": null,
            "order": null,
            "overflow": null,
            "overflow_x": null,
            "overflow_y": null,
            "padding": null,
            "right": null,
            "top": null,
            "visibility": null,
            "width": null
          }
        },
        "cfa3cef9e1b94cdf9b28206c29765902": {
          "model_module": "@jupyter-widgets/base",
          "model_name": "LayoutModel",
          "model_module_version": "1.2.0",
          "state": {
            "_model_module": "@jupyter-widgets/base",
            "_model_module_version": "1.2.0",
            "_model_name": "LayoutModel",
            "_view_count": null,
            "_view_module": "@jupyter-widgets/base",
            "_view_module_version": "1.2.0",
            "_view_name": "LayoutView",
            "align_content": null,
            "align_items": null,
            "align_self": null,
            "border": null,
            "bottom": null,
            "display": null,
            "flex": null,
            "flex_flow": null,
            "grid_area": null,
            "grid_auto_columns": null,
            "grid_auto_flow": null,
            "grid_auto_rows": null,
            "grid_column": null,
            "grid_gap": null,
            "grid_row": null,
            "grid_template_areas": null,
            "grid_template_columns": null,
            "grid_template_rows": null,
            "height": null,
            "justify_content": null,
            "justify_items": null,
            "left": null,
            "margin": null,
            "max_height": null,
            "max_width": null,
            "min_height": null,
            "min_width": null,
            "object_fit": null,
            "object_position": null,
            "order": null,
            "overflow": null,
            "overflow_x": null,
            "overflow_y": null,
            "padding": null,
            "right": null,
            "top": null,
            "visibility": null,
            "width": null
          }
        },
        "a932a85e7008402fa11ad36c86c62e5b": {
          "model_module": "@jupyter-widgets/controls",
          "model_name": "DescriptionStyleModel",
          "model_module_version": "1.5.0",
          "state": {
            "_model_module": "@jupyter-widgets/controls",
            "_model_module_version": "1.5.0",
            "_model_name": "DescriptionStyleModel",
            "_view_count": null,
            "_view_module": "@jupyter-widgets/base",
            "_view_module_version": "1.2.0",
            "_view_name": "StyleView",
            "description_width": ""
          }
        },
        "265a2f41f53449dbb40e608877cacb31": {
          "model_module": "@jupyter-widgets/base",
          "model_name": "LayoutModel",
          "model_module_version": "1.2.0",
          "state": {
            "_model_module": "@jupyter-widgets/base",
            "_model_module_version": "1.2.0",
            "_model_name": "LayoutModel",
            "_view_count": null,
            "_view_module": "@jupyter-widgets/base",
            "_view_module_version": "1.2.0",
            "_view_name": "LayoutView",
            "align_content": null,
            "align_items": null,
            "align_self": null,
            "border": null,
            "bottom": null,
            "display": null,
            "flex": null,
            "flex_flow": null,
            "grid_area": null,
            "grid_auto_columns": null,
            "grid_auto_flow": null,
            "grid_auto_rows": null,
            "grid_column": null,
            "grid_gap": null,
            "grid_row": null,
            "grid_template_areas": null,
            "grid_template_columns": null,
            "grid_template_rows": null,
            "height": null,
            "justify_content": null,
            "justify_items": null,
            "left": null,
            "margin": null,
            "max_height": null,
            "max_width": null,
            "min_height": null,
            "min_width": null,
            "object_fit": null,
            "object_position": null,
            "order": null,
            "overflow": null,
            "overflow_x": null,
            "overflow_y": null,
            "padding": null,
            "right": null,
            "top": null,
            "visibility": null,
            "width": null
          }
        },
        "a02890814b134f80ba047c922655ef04": {
          "model_module": "@jupyter-widgets/controls",
          "model_name": "VBoxModel",
          "model_module_version": "1.5.0",
          "state": {
            "_dom_classes": [
              "widget-interact"
            ],
            "_model_module": "@jupyter-widgets/controls",
            "_model_module_version": "1.5.0",
            "_model_name": "VBoxModel",
            "_view_count": null,
            "_view_module": "@jupyter-widgets/controls",
            "_view_module_version": "1.5.0",
            "_view_name": "VBoxView",
            "box_style": "",
            "children": [
              "IPY_MODEL_4810576507bf4bcf8ea042cb69213204",
              "IPY_MODEL_dc183ed95b514e89a49f5a7d4905e7a9",
              "IPY_MODEL_24a8ae32917e4656957cac4de001e2ab"
            ],
            "layout": "IPY_MODEL_2d2bdaef1f8e4e66ab7a5cf64b27cf0e"
          }
        },
        "4810576507bf4bcf8ea042cb69213204": {
          "model_module": "@jupyter-widgets/controls",
          "model_name": "DropdownModel",
          "model_module_version": "1.5.0",
          "state": {
            "_dom_classes": [],
            "_model_module": "@jupyter-widgets/controls",
            "_model_module_version": "1.5.0",
            "_model_name": "DropdownModel",
            "_options_labels": [
              "Views",
              "Likes",
              "Stream",
              "Comments"
            ],
            "_view_count": null,
            "_view_module": "@jupyter-widgets/controls",
            "_view_module_version": "1.5.0",
            "_view_name": "DropdownView",
            "description": "col1",
            "description_tooltip": null,
            "disabled": false,
            "index": 0,
            "layout": "IPY_MODEL_205bee9b194c4ff8ae70fc832d4fe477",
            "style": "IPY_MODEL_a0242e78e65848098b40aa2f8b56f3e6"
          }
        },
        "dc183ed95b514e89a49f5a7d4905e7a9": {
          "model_module": "@jupyter-widgets/controls",
          "model_name": "DropdownModel",
          "model_module_version": "1.5.0",
          "state": {
            "_dom_classes": [],
            "_model_module": "@jupyter-widgets/controls",
            "_model_module_version": "1.5.0",
            "_model_name": "DropdownModel",
            "_options_labels": [
              "Album_type",
              "Licensed",
              "official_video"
            ],
            "_view_count": null,
            "_view_module": "@jupyter-widgets/controls",
            "_view_module_version": "1.5.0",
            "_view_name": "DropdownView",
            "description": "col2",
            "description_tooltip": null,
            "disabled": false,
            "index": 0,
            "layout": "IPY_MODEL_261bfbe483d846deb4d53a65ff4ce5b1",
            "style": "IPY_MODEL_ad1ef3ce6605490c8a41e6225abc9a4b"
          }
        },
        "24a8ae32917e4656957cac4de001e2ab": {
          "model_module": "@jupyter-widgets/output",
          "model_name": "OutputModel",
          "model_module_version": "1.0.0",
          "state": {
            "_dom_classes": [],
            "_model_module": "@jupyter-widgets/output",
            "_model_module_version": "1.0.0",
            "_model_name": "OutputModel",
            "_view_count": null,
            "_view_module": "@jupyter-widgets/output",
            "_view_module_version": "1.0.0",
            "_view_name": "OutputView",
            "layout": "IPY_MODEL_21e64ab1b5c64a40a2c7735bdbd5add1",
            "msg_id": "",
            "outputs": [
              {
                "output_type": "display_data",
                "data": {
                  "text/plain": "<pandas.io.formats.style.Styler at 0x7be2633aeaa0>",
                  "text/html": "<style type=\"text/css\">\n#T_e65fb_row0_col0 {\n  width: 10em;\n}\n#T_e65fb_row0_col1, #T_e65fb_row0_col2, #T_e65fb_row1_col0 {\n  width: 10em;\n  background: linear-gradient(90deg, grey 100.0%, transparent 100.0%);\n}\n#T_e65fb_row1_col1 {\n  width: 10em;\n  background: linear-gradient(90deg, grey 42.9%, transparent 42.9%);\n}\n#T_e65fb_row1_col2 {\n  width: 10em;\n  background: linear-gradient(90deg, grey 80.8%, transparent 80.8%);\n}\n#T_e65fb_row2_col0 {\n  width: 10em;\n  background: linear-gradient(90deg, grey 39.4%, transparent 39.4%);\n}\n#T_e65fb_row2_col1 {\n  width: 10em;\n  background: linear-gradient(90deg, grey 71.5%, transparent 71.5%);\n}\n#T_e65fb_row2_col2 {\n  width: 10em;\n  background: linear-gradient(90deg, grey 84.2%, transparent 84.2%);\n}\n</style>\n<table id=\"T_e65fb\" class=\"dataframe\">\n  <thead>\n    <tr>\n      <th class=\"blank level0\" >&nbsp;</th>\n      <th id=\"T_e65fb_level0_col0\" class=\"col_heading level0 col0\" colspan=\"3\">Views</th>\n    </tr>\n    <tr>\n      <th class=\"blank level1\" >&nbsp;</th>\n      <th id=\"T_e65fb_level1_col0\" class=\"col_heading level1 col0\" >min</th>\n      <th id=\"T_e65fb_level1_col1\" class=\"col_heading level1 col1\" >max</th>\n      <th id=\"T_e65fb_level1_col2\" class=\"col_heading level1 col2\" >mean</th>\n    </tr>\n    <tr>\n      <th class=\"index_name level0\" >Album_type</th>\n      <th class=\"blank col0\" >&nbsp;</th>\n      <th class=\"blank col1\" >&nbsp;</th>\n      <th class=\"blank col2\" >&nbsp;</th>\n    </tr>\n  </thead>\n  <tbody>\n    <tr>\n      <th id=\"T_e65fb_level0_row0\" class=\"row_heading level0 row0\" >album</th>\n      <td id=\"T_e65fb_row0_col0\" class=\"data row0 col0\" >0.000000</td>\n      <td id=\"T_e65fb_row0_col1\" class=\"data row0 col1\" >8079649362.000000</td>\n      <td id=\"T_e65fb_row0_col2\" class=\"data row0 col2\" >98643825.757761</td>\n    </tr>\n    <tr>\n      <th id=\"T_e65fb_level0_row1\" class=\"row_heading level0 row1\" >compilation</th>\n      <td id=\"T_e65fb_row1_col0\" class=\"data row1 col0\" >71.000000</td>\n      <td id=\"T_e65fb_row1_col1\" class=\"data row1 col1\" >3463816330.000000</td>\n      <td id=\"T_e65fb_row1_col2\" class=\"data row1 col2\" >79694827.532552</td>\n    </tr>\n    <tr>\n      <th id=\"T_e65fb_level0_row2\" class=\"row_heading level0 row2\" >single</th>\n      <td id=\"T_e65fb_row2_col0\" class=\"data row2 col0\" >28.000000</td>\n      <td id=\"T_e65fb_row2_col1\" class=\"data row2 col1\" >5773798407.000000</td>\n      <td id=\"T_e65fb_row2_col2\" class=\"data row2 col2\" >83067040.507868</td>\n    </tr>\n  </tbody>\n</table>\n"
                },
                "metadata": {}
              }
            ]
          }
        },
        "2d2bdaef1f8e4e66ab7a5cf64b27cf0e": {
          "model_module": "@jupyter-widgets/base",
          "model_name": "LayoutModel",
          "model_module_version": "1.2.0",
          "state": {
            "_model_module": "@jupyter-widgets/base",
            "_model_module_version": "1.2.0",
            "_model_name": "LayoutModel",
            "_view_count": null,
            "_view_module": "@jupyter-widgets/base",
            "_view_module_version": "1.2.0",
            "_view_name": "LayoutView",
            "align_content": null,
            "align_items": null,
            "align_self": null,
            "border": null,
            "bottom": null,
            "display": null,
            "flex": null,
            "flex_flow": null,
            "grid_area": null,
            "grid_auto_columns": null,
            "grid_auto_flow": null,
            "grid_auto_rows": null,
            "grid_column": null,
            "grid_gap": null,
            "grid_row": null,
            "grid_template_areas": null,
            "grid_template_columns": null,
            "grid_template_rows": null,
            "height": null,
            "justify_content": null,
            "justify_items": null,
            "left": null,
            "margin": null,
            "max_height": null,
            "max_width": null,
            "min_height": null,
            "min_width": null,
            "object_fit": null,
            "object_position": null,
            "order": null,
            "overflow": null,
            "overflow_x": null,
            "overflow_y": null,
            "padding": null,
            "right": null,
            "top": null,
            "visibility": null,
            "width": null
          }
        },
        "205bee9b194c4ff8ae70fc832d4fe477": {
          "model_module": "@jupyter-widgets/base",
          "model_name": "LayoutModel",
          "model_module_version": "1.2.0",
          "state": {
            "_model_module": "@jupyter-widgets/base",
            "_model_module_version": "1.2.0",
            "_model_name": "LayoutModel",
            "_view_count": null,
            "_view_module": "@jupyter-widgets/base",
            "_view_module_version": "1.2.0",
            "_view_name": "LayoutView",
            "align_content": null,
            "align_items": null,
            "align_self": null,
            "border": null,
            "bottom": null,
            "display": null,
            "flex": null,
            "flex_flow": null,
            "grid_area": null,
            "grid_auto_columns": null,
            "grid_auto_flow": null,
            "grid_auto_rows": null,
            "grid_column": null,
            "grid_gap": null,
            "grid_row": null,
            "grid_template_areas": null,
            "grid_template_columns": null,
            "grid_template_rows": null,
            "height": null,
            "justify_content": null,
            "justify_items": null,
            "left": null,
            "margin": null,
            "max_height": null,
            "max_width": null,
            "min_height": null,
            "min_width": null,
            "object_fit": null,
            "object_position": null,
            "order": null,
            "overflow": null,
            "overflow_x": null,
            "overflow_y": null,
            "padding": null,
            "right": null,
            "top": null,
            "visibility": null,
            "width": null
          }
        },
        "a0242e78e65848098b40aa2f8b56f3e6": {
          "model_module": "@jupyter-widgets/controls",
          "model_name": "DescriptionStyleModel",
          "model_module_version": "1.5.0",
          "state": {
            "_model_module": "@jupyter-widgets/controls",
            "_model_module_version": "1.5.0",
            "_model_name": "DescriptionStyleModel",
            "_view_count": null,
            "_view_module": "@jupyter-widgets/base",
            "_view_module_version": "1.2.0",
            "_view_name": "StyleView",
            "description_width": ""
          }
        },
        "261bfbe483d846deb4d53a65ff4ce5b1": {
          "model_module": "@jupyter-widgets/base",
          "model_name": "LayoutModel",
          "model_module_version": "1.2.0",
          "state": {
            "_model_module": "@jupyter-widgets/base",
            "_model_module_version": "1.2.0",
            "_model_name": "LayoutModel",
            "_view_count": null,
            "_view_module": "@jupyter-widgets/base",
            "_view_module_version": "1.2.0",
            "_view_name": "LayoutView",
            "align_content": null,
            "align_items": null,
            "align_self": null,
            "border": null,
            "bottom": null,
            "display": null,
            "flex": null,
            "flex_flow": null,
            "grid_area": null,
            "grid_auto_columns": null,
            "grid_auto_flow": null,
            "grid_auto_rows": null,
            "grid_column": null,
            "grid_gap": null,
            "grid_row": null,
            "grid_template_areas": null,
            "grid_template_columns": null,
            "grid_template_rows": null,
            "height": null,
            "justify_content": null,
            "justify_items": null,
            "left": null,
            "margin": null,
            "max_height": null,
            "max_width": null,
            "min_height": null,
            "min_width": null,
            "object_fit": null,
            "object_position": null,
            "order": null,
            "overflow": null,
            "overflow_x": null,
            "overflow_y": null,
            "padding": null,
            "right": null,
            "top": null,
            "visibility": null,
            "width": null
          }
        },
        "ad1ef3ce6605490c8a41e6225abc9a4b": {
          "model_module": "@jupyter-widgets/controls",
          "model_name": "DescriptionStyleModel",
          "model_module_version": "1.5.0",
          "state": {
            "_model_module": "@jupyter-widgets/controls",
            "_model_module_version": "1.5.0",
            "_model_name": "DescriptionStyleModel",
            "_view_count": null,
            "_view_module": "@jupyter-widgets/base",
            "_view_module_version": "1.2.0",
            "_view_name": "StyleView",
            "description_width": ""
          }
        },
        "21e64ab1b5c64a40a2c7735bdbd5add1": {
          "model_module": "@jupyter-widgets/base",
          "model_name": "LayoutModel",
          "model_module_version": "1.2.0",
          "state": {
            "_model_module": "@jupyter-widgets/base",
            "_model_module_version": "1.2.0",
            "_model_name": "LayoutModel",
            "_view_count": null,
            "_view_module": "@jupyter-widgets/base",
            "_view_module_version": "1.2.0",
            "_view_name": "LayoutView",
            "align_content": null,
            "align_items": null,
            "align_self": null,
            "border": null,
            "bottom": null,
            "display": null,
            "flex": null,
            "flex_flow": null,
            "grid_area": null,
            "grid_auto_columns": null,
            "grid_auto_flow": null,
            "grid_auto_rows": null,
            "grid_column": null,
            "grid_gap": null,
            "grid_row": null,
            "grid_template_areas": null,
            "grid_template_columns": null,
            "grid_template_rows": null,
            "height": null,
            "justify_content": null,
            "justify_items": null,
            "left": null,
            "margin": null,
            "max_height": null,
            "max_width": null,
            "min_height": null,
            "min_width": null,
            "object_fit": null,
            "object_position": null,
            "order": null,
            "overflow": null,
            "overflow_x": null,
            "overflow_y": null,
            "padding": null,
            "right": null,
            "top": null,
            "visibility": null,
            "width": null
          }
        }
      }
    }
  },
  "cells": [
    {
      "cell_type": "code",
      "execution_count": 1,
      "metadata": {
        "id": "ERK4XoOu5yNs"
      },
      "outputs": [],
      "source": [
        "import pandas as pd\n",
        "import numpy as np\n",
        "import seaborn as sns"
      ]
    },
    {
      "cell_type": "code",
      "source": [
        "data = pd.read_csv(\"/content/Spotify_Youtube.csv\")"
      ],
      "metadata": {
        "id": "hV3c5C4g54gz"
      },
      "execution_count": 2,
      "outputs": []
    },
    {
      "cell_type": "markdown",
      "source": [
        "## Data Exploration"
      ],
      "metadata": {
        "id": "cF2A3TeP6NqS"
      }
    },
    {
      "cell_type": "code",
      "source": [
        "data.columns"
      ],
      "metadata": {
        "colab": {
          "base_uri": "https://localhost:8080/"
        },
        "id": "99ZVnUlI6Q2P",
        "outputId": "605bb6ce-0fda-4e62-d709-22b43cac986e"
      },
      "execution_count": 3,
      "outputs": [
        {
          "output_type": "execute_result",
          "data": {
            "text/plain": [
              "Index(['Artist', 'Url_spotify', 'Track', 'Album', 'Album_type', 'Uri',\n",
              "       'Danceability', 'Energy', 'Key', 'Loudness', 'Speechiness',\n",
              "       'Acousticness', 'Instrumentalness', 'Liveness', 'Valence', 'Tempo',\n",
              "       'Duration_ms', 'Url_youtube', 'Title', 'Channel', 'Views', 'Likes',\n",
              "       'Comments', 'Description', 'Licensed', 'official_video', 'Stream'],\n",
              "      dtype='object')"
            ]
          },
          "metadata": {},
          "execution_count": 3
        }
      ]
    },
    {
      "cell_type": "code",
      "source": [
        "data.dtypes"
      ],
      "metadata": {
        "colab": {
          "base_uri": "https://localhost:8080/"
        },
        "id": "n_mQilLx6SPK",
        "outputId": "64867f23-6f80-4761-8cf8-af0079a8291b"
      },
      "execution_count": 4,
      "outputs": [
        {
          "output_type": "execute_result",
          "data": {
            "text/plain": [
              "Artist               object\n",
              "Url_spotify          object\n",
              "Track                object\n",
              "Album                object\n",
              "Album_type           object\n",
              "Uri                  object\n",
              "Danceability        float64\n",
              "Energy              float64\n",
              "Key                 float64\n",
              "Loudness            float64\n",
              "Speechiness         float64\n",
              "Acousticness        float64\n",
              "Instrumentalness    float64\n",
              "Liveness            float64\n",
              "Valence             float64\n",
              "Tempo               float64\n",
              "Duration_ms         float64\n",
              "Url_youtube          object\n",
              "Title                object\n",
              "Channel              object\n",
              "Views               float64\n",
              "Likes               float64\n",
              "Comments            float64\n",
              "Description          object\n",
              "Licensed             object\n",
              "official_video       object\n",
              "Stream              float64\n",
              "dtype: object"
            ]
          },
          "metadata": {},
          "execution_count": 4
        }
      ]
    },
    {
      "cell_type": "code",
      "source": [
        "data.head()"
      ],
      "metadata": {
        "colab": {
          "base_uri": "https://localhost:8080/",
          "height": 655
        },
        "id": "AiK7NPzdJP2_",
        "outputId": "2ecd9003-6c22-4b56-9177-73286bd44de6"
      },
      "execution_count": 5,
      "outputs": [
        {
          "output_type": "execute_result",
          "data": {
            "text/plain": [
              "     Artist                                        Url_spotify  \\\n",
              "0  Gorillaz  https://open.spotify.com/artist/3AA28KZvwAUcZu...   \n",
              "1  Gorillaz  https://open.spotify.com/artist/3AA28KZvwAUcZu...   \n",
              "2  Gorillaz  https://open.spotify.com/artist/3AA28KZvwAUcZu...   \n",
              "3  Gorillaz  https://open.spotify.com/artist/3AA28KZvwAUcZu...   \n",
              "4  Gorillaz  https://open.spotify.com/artist/3AA28KZvwAUcZu...   \n",
              "\n",
              "                                           Track  \\\n",
              "0                                 Feel Good Inc.   \n",
              "1                                Rhinestone Eyes   \n",
              "2  New Gold (feat. Tame Impala and Bootie Brown)   \n",
              "3                             On Melancholy Hill   \n",
              "4                                 Clint Eastwood   \n",
              "\n",
              "                                           Album Album_type  \\\n",
              "0                                     Demon Days      album   \n",
              "1                                  Plastic Beach      album   \n",
              "2  New Gold (feat. Tame Impala and Bootie Brown)     single   \n",
              "3                                  Plastic Beach      album   \n",
              "4                                       Gorillaz      album   \n",
              "\n",
              "                                    Uri  Danceability  Energy   Key  Loudness  \\\n",
              "0  spotify:track:0d28khcov6AiegSCpG5TuT         0.818   0.705   6.0    -6.679   \n",
              "1  spotify:track:1foMv2HQwfQ2vntFf9HFeG         0.676   0.703   8.0    -5.815   \n",
              "2  spotify:track:64dLd6rVqDLtkXFYrEUHIU         0.695   0.923   1.0    -3.930   \n",
              "3  spotify:track:0q6LuUqGLUiCPP1cbdwFs3         0.689   0.739   2.0    -5.810   \n",
              "4  spotify:track:7yMiX7n9SBvadzox8T5jzT         0.663   0.694  10.0    -8.627   \n",
              "\n",
              "   ...                                  Url_youtube  \\\n",
              "0  ...  https://www.youtube.com/watch?v=HyHNuVaZJ-k   \n",
              "1  ...  https://www.youtube.com/watch?v=yYDmaexVHic   \n",
              "2  ...  https://www.youtube.com/watch?v=qJa-VFwPpYA   \n",
              "3  ...  https://www.youtube.com/watch?v=04mfKJWDSzI   \n",
              "4  ...  https://www.youtube.com/watch?v=1V_xRb0x9aw   \n",
              "\n",
              "                                               Title   Channel        Views  \\\n",
              "0         Gorillaz - Feel Good Inc. (Official Video)  Gorillaz  693555221.0   \n",
              "1  Gorillaz - Rhinestone Eyes [Storyboard Film] (...  Gorillaz   72011645.0   \n",
              "2  Gorillaz - New Gold ft. Tame Impala & Bootie B...  Gorillaz    8435055.0   \n",
              "3     Gorillaz - On Melancholy Hill (Official Video)  Gorillaz  211754952.0   \n",
              "4         Gorillaz - Clint Eastwood (Official Video)  Gorillaz  618480958.0   \n",
              "\n",
              "       Likes  Comments                                        Description  \\\n",
              "0  6220896.0  169907.0  Official HD Video for Gorillaz' fantastic trac...   \n",
              "1  1079128.0   31003.0  The official video for Gorillaz - Rhinestone E...   \n",
              "2   282142.0    7399.0  Gorillaz - New Gold ft. Tame Impala & Bootie B...   \n",
              "3  1788577.0   55229.0  Follow Gorillaz online:\\nhttp://gorillaz.com \\...   \n",
              "4  6197318.0  155930.0  The official music video for Gorillaz - Clint ...   \n",
              "\n",
              "  Licensed official_video        Stream  \n",
              "0     True           True  1.040235e+09  \n",
              "1     True           True  3.100837e+08  \n",
              "2     True           True  6.306347e+07  \n",
              "3     True           True  4.346636e+08  \n",
              "4     True           True  6.172597e+08  \n",
              "\n",
              "[5 rows x 27 columns]"
            ],
            "text/html": [
              "\n",
              "  <div id=\"df-44c2c5f2-234d-4a27-9599-723eb93d74c1\" class=\"colab-df-container\">\n",
              "    <div>\n",
              "<style scoped>\n",
              "    .dataframe tbody tr th:only-of-type {\n",
              "        vertical-align: middle;\n",
              "    }\n",
              "\n",
              "    .dataframe tbody tr th {\n",
              "        vertical-align: top;\n",
              "    }\n",
              "\n",
              "    .dataframe thead th {\n",
              "        text-align: right;\n",
              "    }\n",
              "</style>\n",
              "<table border=\"1\" class=\"dataframe\">\n",
              "  <thead>\n",
              "    <tr style=\"text-align: right;\">\n",
              "      <th></th>\n",
              "      <th>Artist</th>\n",
              "      <th>Url_spotify</th>\n",
              "      <th>Track</th>\n",
              "      <th>Album</th>\n",
              "      <th>Album_type</th>\n",
              "      <th>Uri</th>\n",
              "      <th>Danceability</th>\n",
              "      <th>Energy</th>\n",
              "      <th>Key</th>\n",
              "      <th>Loudness</th>\n",
              "      <th>...</th>\n",
              "      <th>Url_youtube</th>\n",
              "      <th>Title</th>\n",
              "      <th>Channel</th>\n",
              "      <th>Views</th>\n",
              "      <th>Likes</th>\n",
              "      <th>Comments</th>\n",
              "      <th>Description</th>\n",
              "      <th>Licensed</th>\n",
              "      <th>official_video</th>\n",
              "      <th>Stream</th>\n",
              "    </tr>\n",
              "  </thead>\n",
              "  <tbody>\n",
              "    <tr>\n",
              "      <th>0</th>\n",
              "      <td>Gorillaz</td>\n",
              "      <td>https://open.spotify.com/artist/3AA28KZvwAUcZu...</td>\n",
              "      <td>Feel Good Inc.</td>\n",
              "      <td>Demon Days</td>\n",
              "      <td>album</td>\n",
              "      <td>spotify:track:0d28khcov6AiegSCpG5TuT</td>\n",
              "      <td>0.818</td>\n",
              "      <td>0.705</td>\n",
              "      <td>6.0</td>\n",
              "      <td>-6.679</td>\n",
              "      <td>...</td>\n",
              "      <td>https://www.youtube.com/watch?v=HyHNuVaZJ-k</td>\n",
              "      <td>Gorillaz - Feel Good Inc. (Official Video)</td>\n",
              "      <td>Gorillaz</td>\n",
              "      <td>693555221.0</td>\n",
              "      <td>6220896.0</td>\n",
              "      <td>169907.0</td>\n",
              "      <td>Official HD Video for Gorillaz' fantastic trac...</td>\n",
              "      <td>True</td>\n",
              "      <td>True</td>\n",
              "      <td>1.040235e+09</td>\n",
              "    </tr>\n",
              "    <tr>\n",
              "      <th>1</th>\n",
              "      <td>Gorillaz</td>\n",
              "      <td>https://open.spotify.com/artist/3AA28KZvwAUcZu...</td>\n",
              "      <td>Rhinestone Eyes</td>\n",
              "      <td>Plastic Beach</td>\n",
              "      <td>album</td>\n",
              "      <td>spotify:track:1foMv2HQwfQ2vntFf9HFeG</td>\n",
              "      <td>0.676</td>\n",
              "      <td>0.703</td>\n",
              "      <td>8.0</td>\n",
              "      <td>-5.815</td>\n",
              "      <td>...</td>\n",
              "      <td>https://www.youtube.com/watch?v=yYDmaexVHic</td>\n",
              "      <td>Gorillaz - Rhinestone Eyes [Storyboard Film] (...</td>\n",
              "      <td>Gorillaz</td>\n",
              "      <td>72011645.0</td>\n",
              "      <td>1079128.0</td>\n",
              "      <td>31003.0</td>\n",
              "      <td>The official video for Gorillaz - Rhinestone E...</td>\n",
              "      <td>True</td>\n",
              "      <td>True</td>\n",
              "      <td>3.100837e+08</td>\n",
              "    </tr>\n",
              "    <tr>\n",
              "      <th>2</th>\n",
              "      <td>Gorillaz</td>\n",
              "      <td>https://open.spotify.com/artist/3AA28KZvwAUcZu...</td>\n",
              "      <td>New Gold (feat. Tame Impala and Bootie Brown)</td>\n",
              "      <td>New Gold (feat. Tame Impala and Bootie Brown)</td>\n",
              "      <td>single</td>\n",
              "      <td>spotify:track:64dLd6rVqDLtkXFYrEUHIU</td>\n",
              "      <td>0.695</td>\n",
              "      <td>0.923</td>\n",
              "      <td>1.0</td>\n",
              "      <td>-3.930</td>\n",
              "      <td>...</td>\n",
              "      <td>https://www.youtube.com/watch?v=qJa-VFwPpYA</td>\n",
              "      <td>Gorillaz - New Gold ft. Tame Impala &amp; Bootie B...</td>\n",
              "      <td>Gorillaz</td>\n",
              "      <td>8435055.0</td>\n",
              "      <td>282142.0</td>\n",
              "      <td>7399.0</td>\n",
              "      <td>Gorillaz - New Gold ft. Tame Impala &amp; Bootie B...</td>\n",
              "      <td>True</td>\n",
              "      <td>True</td>\n",
              "      <td>6.306347e+07</td>\n",
              "    </tr>\n",
              "    <tr>\n",
              "      <th>3</th>\n",
              "      <td>Gorillaz</td>\n",
              "      <td>https://open.spotify.com/artist/3AA28KZvwAUcZu...</td>\n",
              "      <td>On Melancholy Hill</td>\n",
              "      <td>Plastic Beach</td>\n",
              "      <td>album</td>\n",
              "      <td>spotify:track:0q6LuUqGLUiCPP1cbdwFs3</td>\n",
              "      <td>0.689</td>\n",
              "      <td>0.739</td>\n",
              "      <td>2.0</td>\n",
              "      <td>-5.810</td>\n",
              "      <td>...</td>\n",
              "      <td>https://www.youtube.com/watch?v=04mfKJWDSzI</td>\n",
              "      <td>Gorillaz - On Melancholy Hill (Official Video)</td>\n",
              "      <td>Gorillaz</td>\n",
              "      <td>211754952.0</td>\n",
              "      <td>1788577.0</td>\n",
              "      <td>55229.0</td>\n",
              "      <td>Follow Gorillaz online:\\nhttp://gorillaz.com \\...</td>\n",
              "      <td>True</td>\n",
              "      <td>True</td>\n",
              "      <td>4.346636e+08</td>\n",
              "    </tr>\n",
              "    <tr>\n",
              "      <th>4</th>\n",
              "      <td>Gorillaz</td>\n",
              "      <td>https://open.spotify.com/artist/3AA28KZvwAUcZu...</td>\n",
              "      <td>Clint Eastwood</td>\n",
              "      <td>Gorillaz</td>\n",
              "      <td>album</td>\n",
              "      <td>spotify:track:7yMiX7n9SBvadzox8T5jzT</td>\n",
              "      <td>0.663</td>\n",
              "      <td>0.694</td>\n",
              "      <td>10.0</td>\n",
              "      <td>-8.627</td>\n",
              "      <td>...</td>\n",
              "      <td>https://www.youtube.com/watch?v=1V_xRb0x9aw</td>\n",
              "      <td>Gorillaz - Clint Eastwood (Official Video)</td>\n",
              "      <td>Gorillaz</td>\n",
              "      <td>618480958.0</td>\n",
              "      <td>6197318.0</td>\n",
              "      <td>155930.0</td>\n",
              "      <td>The official music video for Gorillaz - Clint ...</td>\n",
              "      <td>True</td>\n",
              "      <td>True</td>\n",
              "      <td>6.172597e+08</td>\n",
              "    </tr>\n",
              "  </tbody>\n",
              "</table>\n",
              "<p>5 rows × 27 columns</p>\n",
              "</div>\n",
              "    <div class=\"colab-df-buttons\">\n",
              "\n",
              "  <div class=\"colab-df-container\">\n",
              "    <button class=\"colab-df-convert\" onclick=\"convertToInteractive('df-44c2c5f2-234d-4a27-9599-723eb93d74c1')\"\n",
              "            title=\"Convert this dataframe to an interactive table.\"\n",
              "            style=\"display:none;\">\n",
              "\n",
              "  <svg xmlns=\"http://www.w3.org/2000/svg\" height=\"24px\" viewBox=\"0 -960 960 960\">\n",
              "    <path d=\"M120-120v-720h720v720H120Zm60-500h600v-160H180v160Zm220 220h160v-160H400v160Zm0 220h160v-160H400v160ZM180-400h160v-160H180v160Zm440 0h160v-160H620v160ZM180-180h160v-160H180v160Zm440 0h160v-160H620v160Z\"/>\n",
              "  </svg>\n",
              "    </button>\n",
              "\n",
              "  <style>\n",
              "    .colab-df-container {\n",
              "      display:flex;\n",
              "      gap: 12px;\n",
              "    }\n",
              "\n",
              "    .colab-df-convert {\n",
              "      background-color: #E8F0FE;\n",
              "      border: none;\n",
              "      border-radius: 50%;\n",
              "      cursor: pointer;\n",
              "      display: none;\n",
              "      fill: #1967D2;\n",
              "      height: 32px;\n",
              "      padding: 0 0 0 0;\n",
              "      width: 32px;\n",
              "    }\n",
              "\n",
              "    .colab-df-convert:hover {\n",
              "      background-color: #E2EBFA;\n",
              "      box-shadow: 0px 1px 2px rgba(60, 64, 67, 0.3), 0px 1px 3px 1px rgba(60, 64, 67, 0.15);\n",
              "      fill: #174EA6;\n",
              "    }\n",
              "\n",
              "    .colab-df-buttons div {\n",
              "      margin-bottom: 4px;\n",
              "    }\n",
              "\n",
              "    [theme=dark] .colab-df-convert {\n",
              "      background-color: #3B4455;\n",
              "      fill: #D2E3FC;\n",
              "    }\n",
              "\n",
              "    [theme=dark] .colab-df-convert:hover {\n",
              "      background-color: #434B5C;\n",
              "      box-shadow: 0px 1px 3px 1px rgba(0, 0, 0, 0.15);\n",
              "      filter: drop-shadow(0px 1px 2px rgba(0, 0, 0, 0.3));\n",
              "      fill: #FFFFFF;\n",
              "    }\n",
              "  </style>\n",
              "\n",
              "    <script>\n",
              "      const buttonEl =\n",
              "        document.querySelector('#df-44c2c5f2-234d-4a27-9599-723eb93d74c1 button.colab-df-convert');\n",
              "      buttonEl.style.display =\n",
              "        google.colab.kernel.accessAllowed ? 'block' : 'none';\n",
              "\n",
              "      async function convertToInteractive(key) {\n",
              "        const element = document.querySelector('#df-44c2c5f2-234d-4a27-9599-723eb93d74c1');\n",
              "        const dataTable =\n",
              "          await google.colab.kernel.invokeFunction('convertToInteractive',\n",
              "                                                    [key], {});\n",
              "        if (!dataTable) return;\n",
              "\n",
              "        const docLinkHtml = 'Like what you see? Visit the ' +\n",
              "          '<a target=\"_blank\" href=https://colab.research.google.com/notebooks/data_table.ipynb>data table notebook</a>'\n",
              "          + ' to learn more about interactive tables.';\n",
              "        element.innerHTML = '';\n",
              "        dataTable['output_type'] = 'display_data';\n",
              "        await google.colab.output.renderOutput(dataTable, element);\n",
              "        const docLink = document.createElement('div');\n",
              "        docLink.innerHTML = docLinkHtml;\n",
              "        element.appendChild(docLink);\n",
              "      }\n",
              "    </script>\n",
              "  </div>\n",
              "\n",
              "\n",
              "<div id=\"df-b16ff439-059e-4109-b254-3dc2f2a4bb00\">\n",
              "  <button class=\"colab-df-quickchart\" onclick=\"quickchart('df-b16ff439-059e-4109-b254-3dc2f2a4bb00')\"\n",
              "            title=\"Suggest charts\"\n",
              "            style=\"display:none;\">\n",
              "\n",
              "<svg xmlns=\"http://www.w3.org/2000/svg\" height=\"24px\"viewBox=\"0 0 24 24\"\n",
              "     width=\"24px\">\n",
              "    <g>\n",
              "        <path d=\"M19 3H5c-1.1 0-2 .9-2 2v14c0 1.1.9 2 2 2h14c1.1 0 2-.9 2-2V5c0-1.1-.9-2-2-2zM9 17H7v-7h2v7zm4 0h-2V7h2v10zm4 0h-2v-4h2v4z\"/>\n",
              "    </g>\n",
              "</svg>\n",
              "  </button>\n",
              "\n",
              "<style>\n",
              "  .colab-df-quickchart {\n",
              "      --bg-color: #E8F0FE;\n",
              "      --fill-color: #1967D2;\n",
              "      --hover-bg-color: #E2EBFA;\n",
              "      --hover-fill-color: #174EA6;\n",
              "      --disabled-fill-color: #AAA;\n",
              "      --disabled-bg-color: #DDD;\n",
              "  }\n",
              "\n",
              "  [theme=dark] .colab-df-quickchart {\n",
              "      --bg-color: #3B4455;\n",
              "      --fill-color: #D2E3FC;\n",
              "      --hover-bg-color: #434B5C;\n",
              "      --hover-fill-color: #FFFFFF;\n",
              "      --disabled-bg-color: #3B4455;\n",
              "      --disabled-fill-color: #666;\n",
              "  }\n",
              "\n",
              "  .colab-df-quickchart {\n",
              "    background-color: var(--bg-color);\n",
              "    border: none;\n",
              "    border-radius: 50%;\n",
              "    cursor: pointer;\n",
              "    display: none;\n",
              "    fill: var(--fill-color);\n",
              "    height: 32px;\n",
              "    padding: 0;\n",
              "    width: 32px;\n",
              "  }\n",
              "\n",
              "  .colab-df-quickchart:hover {\n",
              "    background-color: var(--hover-bg-color);\n",
              "    box-shadow: 0 1px 2px rgba(60, 64, 67, 0.3), 0 1px 3px 1px rgba(60, 64, 67, 0.15);\n",
              "    fill: var(--button-hover-fill-color);\n",
              "  }\n",
              "\n",
              "  .colab-df-quickchart-complete:disabled,\n",
              "  .colab-df-quickchart-complete:disabled:hover {\n",
              "    background-color: var(--disabled-bg-color);\n",
              "    fill: var(--disabled-fill-color);\n",
              "    box-shadow: none;\n",
              "  }\n",
              "\n",
              "  .colab-df-spinner {\n",
              "    border: 2px solid var(--fill-color);\n",
              "    border-color: transparent;\n",
              "    border-bottom-color: var(--fill-color);\n",
              "    animation:\n",
              "      spin 1s steps(1) infinite;\n",
              "  }\n",
              "\n",
              "  @keyframes spin {\n",
              "    0% {\n",
              "      border-color: transparent;\n",
              "      border-bottom-color: var(--fill-color);\n",
              "      border-left-color: var(--fill-color);\n",
              "    }\n",
              "    20% {\n",
              "      border-color: transparent;\n",
              "      border-left-color: var(--fill-color);\n",
              "      border-top-color: var(--fill-color);\n",
              "    }\n",
              "    30% {\n",
              "      border-color: transparent;\n",
              "      border-left-color: var(--fill-color);\n",
              "      border-top-color: var(--fill-color);\n",
              "      border-right-color: var(--fill-color);\n",
              "    }\n",
              "    40% {\n",
              "      border-color: transparent;\n",
              "      border-right-color: var(--fill-color);\n",
              "      border-top-color: var(--fill-color);\n",
              "    }\n",
              "    60% {\n",
              "      border-color: transparent;\n",
              "      border-right-color: var(--fill-color);\n",
              "    }\n",
              "    80% {\n",
              "      border-color: transparent;\n",
              "      border-right-color: var(--fill-color);\n",
              "      border-bottom-color: var(--fill-color);\n",
              "    }\n",
              "    90% {\n",
              "      border-color: transparent;\n",
              "      border-bottom-color: var(--fill-color);\n",
              "    }\n",
              "  }\n",
              "</style>\n",
              "\n",
              "  <script>\n",
              "    async function quickchart(key) {\n",
              "      const quickchartButtonEl =\n",
              "        document.querySelector('#' + key + ' button');\n",
              "      quickchartButtonEl.disabled = true;  // To prevent multiple clicks.\n",
              "      quickchartButtonEl.classList.add('colab-df-spinner');\n",
              "      try {\n",
              "        const charts = await google.colab.kernel.invokeFunction(\n",
              "            'suggestCharts', [key], {});\n",
              "      } catch (error) {\n",
              "        console.error('Error during call to suggestCharts:', error);\n",
              "      }\n",
              "      quickchartButtonEl.classList.remove('colab-df-spinner');\n",
              "      quickchartButtonEl.classList.add('colab-df-quickchart-complete');\n",
              "    }\n",
              "    (() => {\n",
              "      let quickchartButtonEl =\n",
              "        document.querySelector('#df-b16ff439-059e-4109-b254-3dc2f2a4bb00 button');\n",
              "      quickchartButtonEl.style.display =\n",
              "        google.colab.kernel.accessAllowed ? 'block' : 'none';\n",
              "    })();\n",
              "  </script>\n",
              "</div>\n",
              "    </div>\n",
              "  </div>\n"
            ]
          },
          "metadata": {},
          "execution_count": 5
        }
      ]
    },
    {
      "cell_type": "code",
      "source": [
        "num_data = []\n",
        "for i in data.columns:\n",
        "  if data[i].dtypes == \"float64\":\n",
        "    num_data.append(i)"
      ],
      "metadata": {
        "id": "dK76HAUkSAA_"
      },
      "execution_count": 6,
      "outputs": []
    },
    {
      "cell_type": "code",
      "source": [
        "data_numbers = data[columns:= num_data]"
      ],
      "metadata": {
        "id": "SLnUkvWZTj3T"
      },
      "execution_count": 7,
      "outputs": []
    },
    {
      "cell_type": "code",
      "source": [
        "#Correlation plot\n",
        "sns.heatmap(data_numbers.corr())"
      ],
      "metadata": {
        "colab": {
          "base_uri": "https://localhost:8080/",
          "height": 558
        },
        "id": "RZJ66AP-T79W",
        "outputId": "a24d12b4-62c5-4944-a3a0-48f4e9ba2c56"
      },
      "execution_count": 8,
      "outputs": [
        {
          "output_type": "execute_result",
          "data": {
            "text/plain": [
              "<Axes: >"
            ]
          },
          "metadata": {},
          "execution_count": 8
        },
        {
          "output_type": "display_data",
          "data": {
            "text/plain": [
              "<Figure size 640x480 with 2 Axes>"
            ],
            "image/png": "[encoded data removed]"
          },
          "metadata": {}
        }
      ]
    },
    {
      "cell_type": "markdown",
      "source": [
        "## DATA PREPROCESSING"
      ],
      "metadata": {
        "id": "_bVWUA4I6VZt"
      }
    },
    {
      "cell_type": "markdown",
      "source": [
        "Eliminating unnecessary columns from the dataset for our analysis by removing Url_spotify, Uri, Key, Url_youtube, and Description."
      ],
      "metadata": {
        "id": "c79v-ynq6XyF"
      }
    },
    {
      "cell_type": "code",
      "source": [
        "data.drop(columns = ['Url_spotify','Uri','Key','Url_youtube','Description'], inplace=True)"
      ],
      "metadata": {
        "id": "n5KeFjis6Try"
      },
      "execution_count": 9,
      "outputs": []
    },
    {
      "cell_type": "markdown",
      "source": [
        "Examining the dataset for the presence of null values and calculate the total count of null values for each column"
      ],
      "metadata": {
        "id": "TY6V93uY-Fsf"
      }
    },
    {
      "cell_type": "code",
      "source": [
        "data.isnull().sum()"
      ],
      "metadata": {
        "colab": {
          "base_uri": "https://localhost:8080/"
        },
        "id": "UM7xdSBE6wCn",
        "outputId": "13b31392-38e7-4687-f397-675c4103f2be"
      },
      "execution_count": 10,
      "outputs": [
        {
          "output_type": "execute_result",
          "data": {
            "text/plain": [
              "Artist                0\n",
              "Track                 0\n",
              "Album                 0\n",
              "Album_type            0\n",
              "Danceability          2\n",
              "Energy                2\n",
              "Loudness              2\n",
              "Speechiness           2\n",
              "Acousticness          2\n",
              "Instrumentalness      2\n",
              "Liveness              2\n",
              "Valence               2\n",
              "Tempo                 2\n",
              "Duration_ms           2\n",
              "Title               470\n",
              "Channel             470\n",
              "Views               470\n",
              "Likes               541\n",
              "Comments            569\n",
              "Licensed            470\n",
              "official_video      470\n",
              "Stream              577\n",
              "dtype: int64"
            ]
          },
          "metadata": {},
          "execution_count": 10
        }
      ]
    },
    {
      "cell_type": "markdown",
      "source": [
        "Managing null values in data for improved data quality and analysis"
      ],
      "metadata": {
        "id": "6aKQQJiHN3HD"
      }
    },
    {
      "cell_type": "code",
      "source": [
        "for i in data.columns:\n",
        "  if data[i].isnull().sum()>0:\n",
        "    if data[i].dtypes == \"float64\":\n",
        "      data[i].fillna(0, inplace = True)"
      ],
      "metadata": {
        "id": "D1gdjzgd-NjG"
      },
      "execution_count": 11,
      "outputs": []
    },
    {
      "cell_type": "code",
      "source": [
        "data.isnull().sum()"
      ],
      "metadata": {
        "colab": {
          "base_uri": "https://localhost:8080/"
        },
        "id": "siuHempLOBDM",
        "outputId": "fb95761d-0d12-4576-ab0f-f66de79924ef"
      },
      "execution_count": 12,
      "outputs": [
        {
          "output_type": "execute_result",
          "data": {
            "text/plain": [
              "Artist                0\n",
              "Track                 0\n",
              "Album                 0\n",
              "Album_type            0\n",
              "Danceability          0\n",
              "Energy                0\n",
              "Loudness              0\n",
              "Speechiness           0\n",
              "Acousticness          0\n",
              "Instrumentalness      0\n",
              "Liveness              0\n",
              "Valence               0\n",
              "Tempo                 0\n",
              "Duration_ms           0\n",
              "Title               470\n",
              "Channel             470\n",
              "Views                 0\n",
              "Likes                 0\n",
              "Comments              0\n",
              "Licensed            470\n",
              "official_video      470\n",
              "Stream                0\n",
              "dtype: int64"
            ]
          },
          "metadata": {},
          "execution_count": 12
        }
      ]
    },
    {
      "cell_type": "code",
      "source": [
        "data.dropna(inplace=True)"
      ],
      "metadata": {
        "id": "sEYuc8raVTPP"
      },
      "execution_count": 13,
      "outputs": []
    },
    {
      "cell_type": "markdown",
      "source": [
        "Eliminating duplicate records in the dataset while retaining the first occurrence of each unique value."
      ],
      "metadata": {
        "id": "wy9nHCfCOEj_"
      }
    },
    {
      "cell_type": "code",
      "source": [
        "data.duplicated().sum()"
      ],
      "metadata": {
        "colab": {
          "base_uri": "https://localhost:8080/"
        },
        "id": "ynWsL0BSPEhS",
        "outputId": "c4b5a30f-ee50-47b4-81c1-4bc0a75ccda3"
      },
      "execution_count": 14,
      "outputs": [
        {
          "output_type": "execute_result",
          "data": {
            "text/plain": [
              "5"
            ]
          },
          "metadata": {},
          "execution_count": 14
        }
      ]
    },
    {
      "cell_type": "code",
      "source": [
        "data.drop_duplicates(keep='first',inplace=True)"
      ],
      "metadata": {
        "id": "N_YguUubC0LU"
      },
      "execution_count": 15,
      "outputs": []
    },
    {
      "cell_type": "code",
      "source": [
        "data.shape"
      ],
      "metadata": {
        "colab": {
          "base_uri": "https://localhost:8080/"
        },
        "id": "bK1qoDxBEv6k",
        "outputId": "c72ae082-46cc-4788-f2a2-4139dab99710"
      },
      "execution_count": 16,
      "outputs": [
        {
          "output_type": "execute_result",
          "data": {
            "text/plain": [
              "(20248, 22)"
            ]
          },
          "metadata": {},
          "execution_count": 16
        }
      ]
    },
    {
      "cell_type": "markdown",
      "source": [
        "Converting the duration in milliseconds to minutes, facilitating a clearer comprehension and representation of time intervals in a more user-friendly format\n"
      ],
      "metadata": {
        "id": "y_XR07jkOnhc"
      }
    },
    {
      "cell_type": "code",
      "source": [
        "data['Duration_ms'].head()"
      ],
      "metadata": {
        "colab": {
          "base_uri": "https://localhost:8080/"
        },
        "id": "R126SsSaOyqx",
        "outputId": "ab680353-201f-482c-a488-1d0c2bc04493"
      },
      "execution_count": 17,
      "outputs": [
        {
          "output_type": "execute_result",
          "data": {
            "text/plain": [
              "0    222640.0\n",
              "1    200173.0\n",
              "2    215150.0\n",
              "3    233867.0\n",
              "4    340920.0\n",
              "Name: Duration_ms, dtype: float64"
            ]
          },
          "metadata": {},
          "execution_count": 17
        }
      ]
    },
    {
      "cell_type": "code",
      "source": [
        "data['Duration_ms'] = data['Duration_ms']/60000"
      ],
      "metadata": {
        "id": "7vQ9IYOtJx26"
      },
      "execution_count": 18,
      "outputs": []
    },
    {
      "cell_type": "code",
      "source": [
        "data['Duration_ms'] = round(data['Duration_ms'],2)"
      ],
      "metadata": {
        "id": "5ilkYvrMLVs_"
      },
      "execution_count": 19,
      "outputs": []
    },
    {
      "cell_type": "code",
      "source": [
        "data['Duration_ms'].head()"
      ],
      "metadata": {
        "colab": {
          "base_uri": "https://localhost:8080/"
        },
        "id": "kOGzoV1kO3W1",
        "outputId": "6dc1a971-fa6d-4219-896d-64af0ef67a41"
      },
      "execution_count": 20,
      "outputs": [
        {
          "output_type": "execute_result",
          "data": {
            "text/plain": [
              "0    3.71\n",
              "1    3.34\n",
              "2    3.59\n",
              "3    3.90\n",
              "4    5.68\n",
              "Name: Duration_ms, dtype: float64"
            ]
          },
          "metadata": {},
          "execution_count": 20
        }
      ]
    },
    {
      "cell_type": "markdown",
      "source": [
        "Changing the name of the modified column to \"Duration_min\" to accurately reflect the conversion from milliseconds to minutes"
      ],
      "metadata": {
        "id": "NNmClCYKPrrf"
      }
    },
    {
      "cell_type": "code",
      "source": [
        "data.rename(columns = {\"Duration_ms\":\"Duration_min\"}, inplace=True)"
      ],
      "metadata": {
        "id": "qHUnizKrPZaQ"
      },
      "execution_count": 21,
      "outputs": []
    },
    {
      "cell_type": "markdown",
      "source": [
        "Eliminatinge track names that are deemed irrelevant and begin with the \"?\" character."
      ],
      "metadata": {
        "id": "Tqv9A35-QX0T"
      }
    },
    {
      "cell_type": "code",
      "source": [
        "data[\"Track\"].str.startswith(\"?\").sum()"
      ],
      "metadata": {
        "colab": {
          "base_uri": "https://localhost:8080/"
        },
        "id": "Cmr6x0E1TcB2",
        "outputId": "f94a408e-cb8f-4a5d-f187-095c727c68fd"
      },
      "execution_count": 22,
      "outputs": [
        {
          "output_type": "execute_result",
          "data": {
            "text/plain": [
              "123"
            ]
          },
          "metadata": {},
          "execution_count": 22
        }
      ]
    },
    {
      "cell_type": "code",
      "source": [
        "remove = []\n",
        "for row in range(data.shape[0]):\n",
        "  try:\n",
        "    if data.loc[row][\"Track\"].startswith(\"?\"):\n",
        "      remove.append(row)\n",
        "  except:\n",
        "    continue"
      ],
      "metadata": {
        "id": "G1K1hNd2QCyH"
      },
      "execution_count": 23,
      "outputs": []
    },
    {
      "cell_type": "code",
      "source": [
        "remove_rows = data[data[\"Track\"].str.startswith(\"?\")].index"
      ],
      "metadata": {
        "id": "aVJsmHWrWtyC"
      },
      "execution_count": 24,
      "outputs": []
    },
    {
      "cell_type": "code",
      "source": [
        "data.drop(index = remove_rows, inplace=True)"
      ],
      "metadata": {
        "id": "8oueOOnCV46o"
      },
      "execution_count": 25,
      "outputs": []
    },
    {
      "cell_type": "code",
      "source": [
        "data[\"Track\"].str.startswith(\"?\").sum()"
      ],
      "metadata": {
        "colab": {
          "base_uri": "https://localhost:8080/"
        },
        "id": "GlmEp-z6TbdI",
        "outputId": "dde2dd2b-efcc-40c4-bc69-85cb9753847a"
      },
      "execution_count": 26,
      "outputs": [
        {
          "output_type": "execute_result",
          "data": {
            "text/plain": [
              "0"
            ]
          },
          "metadata": {},
          "execution_count": 26
        }
      ]
    },
    {
      "cell_type": "markdown",
      "source": [
        "Computing the Energy to Liveness ratio for each track, quantifying the relationship between energy and liveliness attributes. The resulting ratios are then stored in a column named 'EnergyLiveness'."
      ],
      "metadata": {
        "id": "2FnIMAfl9AUN"
      }
    },
    {
      "cell_type": "code",
      "source": [
        "data.columns"
      ],
      "metadata": {
        "colab": {
          "base_uri": "https://localhost:8080/"
        },
        "id": "Lc4oBv2w9wpp",
        "outputId": "369b378b-0178-4a82-e46f-9850b6517cf4"
      },
      "execution_count": 27,
      "outputs": [
        {
          "output_type": "execute_result",
          "data": {
            "text/plain": [
              "Index(['Artist', 'Track', 'Album', 'Album_type', 'Danceability', 'Energy',\n",
              "       'Loudness', 'Speechiness', 'Acousticness', 'Instrumentalness',\n",
              "       'Liveness', 'Valence', 'Tempo', 'Duration_min', 'Title', 'Channel',\n",
              "       'Views', 'Likes', 'Comments', 'Licensed', 'official_video', 'Stream'],\n",
              "      dtype='object')"
            ]
          },
          "metadata": {},
          "execution_count": 27
        }
      ]
    },
    {
      "cell_type": "code",
      "source": [
        "data[\"EnergyLiveness\"] = data['Energy']/data['Liveness']"
      ],
      "metadata": {
        "id": "lHNR_MzO8Hfj"
      },
      "execution_count": 28,
      "outputs": []
    },
    {
      "cell_type": "code",
      "source": [
        "data.columns[-1]"
      ],
      "metadata": {
        "colab": {
          "base_uri": "https://localhost:8080/",
          "height": 35
        },
        "id": "Q5KUD3TM9a8d",
        "outputId": "53305783-1725-4d9a-ab26-4beaf1b2c788"
      },
      "execution_count": 29,
      "outputs": [
        {
          "output_type": "execute_result",
          "data": {
            "text/plain": [
              "'EnergyLiveness'"
            ],
            "application/vnd.google.colaboratory.intrinsic+json": {
              "type": "string"
            }
          },
          "metadata": {},
          "execution_count": 29
        }
      ]
    },
    {
      "cell_type": "markdown",
      "source": [
        "Modifing the data type of the 'views' column to float, enabling numerical operations and facilitating its utilization in subsequent analysis or calculations requiring floating-point values"
      ],
      "metadata": {
        "id": "l_60tqkQ9zhY"
      }
    },
    {
      "cell_type": "code",
      "source": [
        "data = data.astype({\"Views\":\"float\"})"
      ],
      "metadata": {
        "id": "9bb16Nie948e"
      },
      "execution_count": 30,
      "outputs": []
    },
    {
      "cell_type": "code",
      "source": [
        "data.Views.dtypes"
      ],
      "metadata": {
        "colab": {
          "base_uri": "https://localhost:8080/"
        },
        "id": "DtSsYJWY-Z2O",
        "outputId": "fce4d2ff-44c6-404d-9610-2ad1b4b34c10"
      },
      "execution_count": 31,
      "outputs": [
        {
          "output_type": "execute_result",
          "data": {
            "text/plain": [
              "dtype('float64')"
            ]
          },
          "metadata": {},
          "execution_count": 31
        }
      ]
    },
    {
      "cell_type": "markdown",
      "source": [
        "Analyzing the 'views' and 'stream' columns to determine the dominant platform (YouTube or Spotify) on which a song track was most played.\n",
        "\n",
        "Creating a new column called 'most_playedon' with values 'Spotify' or 'YouTube' indicating the platform with the highest play count for each song track"
      ],
      "metadata": {
        "id": "RppCJVfh_ZPA"
      }
    },
    {
      "cell_type": "code",
      "source": [
        "for row in range(20723):\n",
        "  try:\n",
        "    if data.loc[row][\"Stream\"]> data.loc[row][\"Views\"]:\n",
        "      data.loc[row, \"most_playedon\"] = \"Spotify\"\n",
        "    else:\n",
        "      data.loc[row,\"most_playedon\"] = \"Youtube\"\n",
        "    #using loc instaed of iloc to avoid copy warning, as this will make changes in the original dataframe\n",
        "  except KeyError:\n",
        "    continue"
      ],
      "metadata": {
        "id": "l9rVtYzh_C-1"
      },
      "execution_count": 32,
      "outputs": []
    },
    {
      "cell_type": "code",
      "source": [
        "data.most_playedon.value_counts()"
      ],
      "metadata": {
        "colab": {
          "base_uri": "https://localhost:8080/"
        },
        "id": "VQIn6rUVJC2P",
        "outputId": "74e493fe-c9b1-4c21-ee48-b7c614c2ed17"
      },
      "execution_count": 33,
      "outputs": [
        {
          "output_type": "execute_result",
          "data": {
            "text/plain": [
              "Spotify    15245\n",
              "Youtube     4880\n",
              "Name: most_playedon, dtype: int64"
            ]
          },
          "metadata": {},
          "execution_count": 33
        }
      ]
    },
    {
      "cell_type": "markdown",
      "source": [
        "Exporting the data to a CSV file named \"cleaned_dataset.csv\""
      ],
      "metadata": {
        "id": "07OqY6rgdVxN"
      }
    },
    {
      "cell_type": "code",
      "source": [
        "data.to_csv(\"YouTube_Spotify_cleaned.csv\", encoding =\"utf-8\", index=False)"
      ],
      "metadata": {
        "id": "IA8BqnqBJkbG"
      },
      "execution_count": null,
      "outputs": []
    },
    {
      "cell_type": "markdown",
      "source": [
        "## **Exploratory Data Analysis**"
      ],
      "metadata": {
        "id": "xNIJE3bQMdDT"
      }
    },
    {
      "cell_type": "code",
      "source": [
        "import ipywidgets as widgets\n",
        "from ipywidgets import interact\n",
        "from ipywidgets import interact_manual"
      ],
      "metadata": {
        "id": "-nb8ofnIam_c"
      },
      "execution_count": 34,
      "outputs": []
    },
    {
      "cell_type": "code",
      "source": [
        "data.nunique()"
      ],
      "metadata": {
        "colab": {
          "base_uri": "https://localhost:8080/"
        },
        "id": "CAr-K6I5MiOs",
        "outputId": "075e3133-5fab-4b06-f69f-6c5a5edb8bb7"
      },
      "execution_count": 35,
      "outputs": [
        {
          "output_type": "execute_result",
          "data": {
            "text/plain": [
              "Artist               2058\n",
              "Track               17362\n",
              "Album               11645\n",
              "Album_type              3\n",
              "Danceability          897\n",
              "Energy               1263\n",
              "Loudness             9269\n",
              "Speechiness          1296\n",
              "Acousticness         3125\n",
              "Instrumentalness     3982\n",
              "Liveness             1526\n",
              "Valence              1290\n",
              "Tempo               14702\n",
              "Duration_min          812\n",
              "Title               18022\n",
              "Channel              6672\n",
              "Views               19123\n",
              "Likes               17830\n",
              "Comments            10429\n",
              "Licensed                2\n",
              "official_video          2\n",
              "Stream              17979\n",
              "EnergyLiveness      17317\n",
              "most_playedon           2\n",
              "dtype: int64"
            ]
          },
          "metadata": {},
          "execution_count": 35
        }
      ]
    },
    {
      "cell_type": "markdown",
      "source": [
        "**DESCRIPTIVE STATISTICS**"
      ],
      "metadata": {
        "id": "BZhEfVhOaV8S"
      }
    },
    {
      "cell_type": "code",
      "source": [
        "@interact\n",
        "def check(column = list(data.select_dtypes('float64').columns)):\n",
        "    max = data[column].max()\n",
        "    min = data[column].min()\n",
        "    avg = data[column].mean()\n",
        "    var = data[column].var()\n",
        "    std = data[column].std()\n",
        "    percentile1 = data[column].quantile(0.25)\n",
        "    percentile3 = data[column].quantile(0.95)\n",
        "    print(\"Max Value :\", max)\n",
        "    print(\"Minimum Value :\", min)\n",
        "    print(\"Average Value :\", avg)\n",
        "    print(\"Variance :\", var)\n",
        "    print(\"Standard Deviation :\", std)\n",
        "    print(\"25 Percentile :\", percentile1)\n",
        "    print(\"75 Percentile :\", percentile3)"
      ],
      "metadata": {
        "id": "RYIBP4fhMiFW",
        "colab": {
          "base_uri": "https://localhost:8080/",
          "height": 171,
          "referenced_widgets": [
            "85632156480b437da1190bef7f685483",
            "da7509d9c4eb4fcf99f8be0997d6d4b4",
            "36a8970e44e5474bb6f3850f794639e8",
            "98c23df0db024d6684a715e1a92131a6",
            "cfa3cef9e1b94cdf9b28206c29765902",
            "a932a85e7008402fa11ad36c86c62e5b",
            "265a2f41f53449dbb40e608877cacb31"
          ]
        },
        "outputId": "755b5bd7-5d62-4d5c-c135-0f858fbe4fe5"
      },
      "execution_count": 36,
      "outputs": [
        {
          "output_type": "display_data",
          "data": {
            "text/plain": [
              "interactive(children=(Dropdown(description='column', options=('Danceability', 'Energy', 'Loudness', 'Speechine…"
            ],
            "application/vnd.jupyter.widget-view+json": {
              "version_major": 2,
              "version_minor": 0,
              "model_id": "85632156480b437da1190bef7f685483"
            }
          },
          "metadata": {}
        }
      ]
    },
    {
      "cell_type": "code",
      "source": [
        "data.nunique()"
      ],
      "metadata": {
        "id": "mKtnHSI8MiCa",
        "colab": {
          "base_uri": "https://localhost:8080/"
        },
        "outputId": "d3f4a318-6233-4818-8ce9-64dea03a3ae9"
      },
      "execution_count": 37,
      "outputs": [
        {
          "output_type": "execute_result",
          "data": {
            "text/plain": [
              "Artist               2058\n",
              "Track               17362\n",
              "Album               11645\n",
              "Album_type              3\n",
              "Danceability          897\n",
              "Energy               1263\n",
              "Loudness             9269\n",
              "Speechiness          1296\n",
              "Acousticness         3125\n",
              "Instrumentalness     3982\n",
              "Liveness             1526\n",
              "Valence              1290\n",
              "Tempo               14702\n",
              "Duration_min          812\n",
              "Title               18022\n",
              "Channel              6672\n",
              "Views               19123\n",
              "Likes               17830\n",
              "Comments            10429\n",
              "Licensed                2\n",
              "official_video          2\n",
              "Stream              17979\n",
              "EnergyLiveness      17317\n",
              "most_playedon           2\n",
              "dtype: int64"
            ]
          },
          "metadata": {},
          "execution_count": 37
        }
      ]
    },
    {
      "cell_type": "code",
      "source": [
        "col1_list = ['Views','Likes','Stream','Comments']\n",
        "col2_list = ['Album_type', 'Licensed','official_video']"
      ],
      "metadata": {
        "id": "wRQ1dpcZcPhH"
      },
      "execution_count": 38,
      "outputs": []
    },
    {
      "cell_type": "code",
      "source": [
        "@interact\n",
        "\n",
        "def check(col1=data[col1_list], col2=data[col2_list]):\n",
        "    # Handle division by zero\n",
        "    divisor = np.where(data[col2] != 0, data[col2], np.nan)\n",
        "\n",
        "    x = data[[col2, col1]].groupby([col2]).agg(['min', 'max', 'mean'])\n",
        "    return x.style.bar(color=\"lightgrey\")"
      ],
      "metadata": {
        "id": "VT-41L_yMh_h",
        "colab": {
          "base_uri": "https://localhost:8080/",
          "height": 270,
          "referenced_widgets": [
            "a02890814b134f80ba047c922655ef04",
            "4810576507bf4bcf8ea042cb69213204",
            "dc183ed95b514e89a49f5a7d4905e7a9",
            "24a8ae32917e4656957cac4de001e2ab",
            "2d2bdaef1f8e4e66ab7a5cf64b27cf0e",
            "205bee9b194c4ff8ae70fc832d4fe477",
            "a0242e78e65848098b40aa2f8b56f3e6",
            "261bfbe483d846deb4d53a65ff4ce5b1",
            "ad1ef3ce6605490c8a41e6225abc9a4b",
            "21e64ab1b5c64a40a2c7735bdbd5add1"
          ]
        },
        "outputId": "d2b1ada1-a1fe-4cf2-b214-9198b99147b6"
      },
      "execution_count": 39,
      "outputs": [
        {
          "output_type": "display_data",
          "data": {
            "text/plain": [
              "interactive(children=(Dropdown(description='col1', options=('Views', 'Likes', 'Stream', 'Comments'), value='Vi…"
            ],
            "application/vnd.jupyter.widget-view+json": {
              "version_major": 2,
              "version_minor": 0,
              "model_id": "a02890814b134f80ba047c922655ef04"
            }
          },
          "metadata": {}
        }
      ]
    },
    {
      "cell_type": "code",
      "source": [],
      "metadata": {
        "id": "TVhfYCsBr3HQ"
      },
      "execution_count": null,
      "outputs": []
    }
  ]
}